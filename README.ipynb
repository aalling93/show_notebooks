# show_notebooks
This repository is only used for showing notebook to the public thorugh a website.
Files will only be showed here temporary. If you have a link to a notebook, that should be in this reposity, and it is removed contact Kristian Sørensen. 


